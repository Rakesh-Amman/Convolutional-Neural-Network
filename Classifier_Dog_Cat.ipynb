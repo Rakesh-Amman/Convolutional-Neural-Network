{
 "cells": [
  {
   "cell_type": "code",
   "execution_count": 1,
   "metadata": {},
   "outputs": [
    {
     "name": "stderr",
     "output_type": "stream",
     "text": [
      "C:\\Users\\jmo4cob\\AppData\\Local\\conda\\conda\\envs\\tf35\\lib\\site-packages\\h5py\\__init__.py:36: FutureWarning: Conversion of the second argument of issubdtype from `float` to `np.floating` is deprecated. In future, it will be treated as `np.float64 == np.dtype(float).type`.\n",
      "  from ._conv import register_converters as _register_converters\n",
      "Using TensorFlow backend.\n"
     ]
    }
   ],
   "source": [
    "# Importing the Keras libraries and packages\n",
    "from keras.models import Sequential  \n",
    "from keras.layers import Convolution2D\n",
    "from keras.layers import MaxPooling2D\n",
    "from keras.layers import Flatten\n",
    "from keras.layers import Dense"
   ]
  },
  {
   "cell_type": "code",
   "execution_count": 2,
   "metadata": {},
   "outputs": [
    {
     "name": "stderr",
     "output_type": "stream",
     "text": [
      "C:\\Users\\jmo4cob\\AppData\\Local\\conda\\conda\\envs\\tf35\\lib\\site-packages\\ipykernel\\__main__.py:5: UserWarning: Update your `Conv2D` call to the Keras 2 API: `Conv2D(32, (3, 3), activation=\"relu\", input_shape=(64, 64, 3...)`\n",
      "C:\\Users\\jmo4cob\\AppData\\Local\\conda\\conda\\envs\\tf35\\lib\\site-packages\\ipykernel\\__main__.py:11: UserWarning: Update your `Conv2D` call to the Keras 2 API: `Conv2D(32, (3, 3), activation=\"relu\")`\n",
      "C:\\Users\\jmo4cob\\AppData\\Local\\conda\\conda\\envs\\tf35\\lib\\site-packages\\ipykernel\\__main__.py:18: UserWarning: Update your `Dense` call to the Keras 2 API: `Dense(units=128, activation=\"relu\")`\n",
      "C:\\Users\\jmo4cob\\AppData\\Local\\conda\\conda\\envs\\tf35\\lib\\site-packages\\ipykernel\\__main__.py:19: UserWarning: Update your `Dense` call to the Keras 2 API: `Dense(units=1, activation=\"sigmoid\")`\n"
     ]
    }
   ],
   "source": [
    "# Initialising the CNN\n",
    "classifier = Sequential()\n",
    "\n",
    "# Step 1 - Convolution\n",
    "classifier.add(Convolution2D(32, 3, 3, input_shape = (64, 64, 3), activation = 'relu'))\n",
    "\n",
    "# Step 2 - Pooling\n",
    "classifier.add(MaxPooling2D(pool_size = (2, 2)))\n",
    "\n",
    "# Adding a second convolutional layer\n",
    "classifier.add(Convolution2D(32, 3, 3, activation = 'relu'))\n",
    "classifier.add(MaxPooling2D(pool_size = (2, 2)))\n",
    "\n",
    "# Step 3 - Flattening\n",
    "classifier.add(Flatten())\n",
    "\n",
    "# Step 4 - Full connection\n",
    "classifier.add(Dense(output_dim = 128, activation = 'relu'))\n",
    "classifier.add(Dense(output_dim = 1, activation = 'sigmoid'))"
   ]
  },
  {
   "cell_type": "code",
   "execution_count": 3,
   "metadata": {},
   "outputs": [],
   "source": [
    "# Compiling the CNN\n",
    "classifier.compile(optimizer = 'adam', loss = 'binary_crossentropy', metrics = ['accuracy'])"
   ]
  },
  {
   "cell_type": "code",
   "execution_count": 4,
   "metadata": {},
   "outputs": [
    {
     "name": "stdout",
     "output_type": "stream",
     "text": [
      "_________________________________________________________________\n",
      "Layer (type)                 Output Shape              Param #   \n",
      "=================================================================\n",
      "conv2d_1 (Conv2D)            (None, 62, 62, 32)        896       \n",
      "_________________________________________________________________\n",
      "max_pooling2d_1 (MaxPooling2 (None, 31, 31, 32)        0         \n",
      "_________________________________________________________________\n",
      "conv2d_2 (Conv2D)            (None, 29, 29, 32)        9248      \n",
      "_________________________________________________________________\n",
      "max_pooling2d_2 (MaxPooling2 (None, 14, 14, 32)        0         \n",
      "_________________________________________________________________\n",
      "flatten_1 (Flatten)          (None, 6272)              0         \n",
      "_________________________________________________________________\n",
      "dense_1 (Dense)              (None, 128)               802944    \n",
      "_________________________________________________________________\n",
      "dense_2 (Dense)              (None, 1)                 129       \n",
      "=================================================================\n",
      "Total params: 813,217\n",
      "Trainable params: 813,217\n",
      "Non-trainable params: 0\n",
      "_________________________________________________________________\n"
     ]
    }
   ],
   "source": [
    "classifier.summary()"
   ]
  },
  {
   "cell_type": "code",
   "execution_count": 5,
   "metadata": {},
   "outputs": [],
   "source": [
    "# Part 2 - Fitting the CNN to the images\n",
    "\n",
    "from keras.preprocessing.image import ImageDataGenerator"
   ]
  },
  {
   "cell_type": "code",
   "execution_count": 6,
   "metadata": {},
   "outputs": [],
   "source": [
    "train_datagen = ImageDataGenerator(rescale = 1./255,\n",
    "                                   shear_range = 0.2,\n",
    "                                   zoom_range = 0.2,\n",
    "                                   horizontal_flip = True)\n",
    "\n",
    "test_datagen = ImageDataGenerator(rescale = 1./255)"
   ]
  },
  {
   "cell_type": "code",
   "execution_count": 7,
   "metadata": {},
   "outputs": [
    {
     "name": "stdout",
     "output_type": "stream",
     "text": [
      "Found 8000 images belonging to 2 classes.\n"
     ]
    }
   ],
   "source": [
    "training_set = train_datagen.flow_from_directory('dataset/training_set',\n",
    "                                                 target_size = (64, 64),\n",
    "                                                 batch_size = 32,\n",
    "                                                 class_mode = 'binary')"
   ]
  },
  {
   "cell_type": "code",
   "execution_count": 8,
   "metadata": {},
   "outputs": [
    {
     "name": "stdout",
     "output_type": "stream",
     "text": [
      "Found 2000 images belonging to 2 classes.\n"
     ]
    }
   ],
   "source": [
    "test_set = test_datagen.flow_from_directory('dataset/test_set',\n",
    "                                            target_size = (64, 64),\n",
    "                                            batch_size = 32,\n",
    "                                            class_mode = 'binary')"
   ]
  },
  {
   "cell_type": "code",
   "execution_count": 9,
   "metadata": {},
   "outputs": [
    {
     "name": "stdout",
     "output_type": "stream",
     "text": [
      "[name: \"/device:CPU:0\"\n",
      "device_type: \"CPU\"\n",
      "memory_limit: 268435456\n",
      "locality {\n",
      "}\n",
      "incarnation: 15127849013795901564\n",
      ", name: \"/device:GPU:0\"\n",
      "device_type: \"GPU\"\n",
      "memory_limit: 3279129804\n",
      "locality {\n",
      "  bus_id: 1\n",
      "}\n",
      "incarnation: 4053268449702607997\n",
      "physical_device_desc: \"device: 0, name: Quadro K2200, pci bus id: 0000:04:00.0, compute capability: 5.0\"\n",
      "]\n"
     ]
    }
   ],
   "source": [
    "from tensorflow.python.client import device_lib\n",
    "print(device_lib.list_local_devices())"
   ]
  },
  {
   "cell_type": "code",
   "execution_count": 10,
   "metadata": {
    "scrolled": false
   },
   "outputs": [
    {
     "name": "stderr",
     "output_type": "stream",
     "text": [
      "C:\\Users\\jmo4cob\\AppData\\Local\\conda\\conda\\envs\\tf35\\lib\\site-packages\\ipykernel\\__main__.py:5: UserWarning: The semantics of the Keras 2 argument `steps_per_epoch` is not the same as the Keras 1 argument `samples_per_epoch`. `steps_per_epoch` is the number of batches to draw from the generator at each epoch. Basically steps_per_epoch = samples_per_epoch/batch_size. Similarly `nb_val_samples`->`validation_steps` and `val_samples`->`steps` arguments have changed. Update your method calls accordingly.\n",
      "C:\\Users\\jmo4cob\\AppData\\Local\\conda\\conda\\envs\\tf35\\lib\\site-packages\\ipykernel\\__main__.py:5: UserWarning: Update your `fit_generator` call to the Keras 2 API: `fit_generator(<keras.pre..., steps_per_epoch=250, validation_steps=2000, epochs=25, validation_data=<keras.pre...)`\n"
     ]
    },
    {
     "name": "stdout",
     "output_type": "stream",
     "text": [
      "Epoch 1/25\n",
      "250/250 [==============================] - 200s 799ms/step - loss: 0.6530 - acc: 0.6103 - val_loss: 0.5902 - val_acc: 0.6856\n",
      "Epoch 2/25\n",
      "250/250 [==============================] - 171s 684ms/step - loss: 0.5854 - acc: 0.6945 - val_loss: 0.5628 - val_acc: 0.7303\n",
      "Epoch 3/25\n",
      "250/250 [==============================] - 179s 715ms/step - loss: 0.5440 - acc: 0.7226 - val_loss: 0.5434 - val_acc: 0.7244\n",
      "Epoch 4/25\n",
      "250/250 [==============================] - 173s 692ms/step - loss: 0.5072 - acc: 0.7509 - val_loss: 0.5116 - val_acc: 0.7583\n",
      "Epoch 5/25\n",
      "250/250 [==============================] - 173s 692ms/step - loss: 0.4885 - acc: 0.7647 - val_loss: 0.4738 - val_acc: 0.7779\n",
      "Epoch 6/25\n",
      "250/250 [==============================] - 169s 678ms/step - loss: 0.4829 - acc: 0.7666 - val_loss: 0.5236 - val_acc: 0.7680\n",
      "Epoch 7/25\n",
      "250/250 [==============================] - 174s 697ms/step - loss: 0.4553 - acc: 0.7827 - val_loss: 0.4626 - val_acc: 0.7974\n",
      "Epoch 8/25\n",
      "250/250 [==============================] - 172s 688ms/step - loss: 0.4416 - acc: 0.7926 - val_loss: 0.4893 - val_acc: 0.7784\n",
      "Epoch 9/25\n",
      "250/250 [==============================] - 176s 702ms/step - loss: 0.4340 - acc: 0.7931 - val_loss: 0.5184 - val_acc: 0.7514\n",
      "Epoch 10/25\n",
      "250/250 [==============================] - 172s 686ms/step - loss: 0.4223 - acc: 0.8053 - val_loss: 0.4708 - val_acc: 0.7849\n",
      "Epoch 11/25\n",
      "250/250 [==============================] - 180s 720ms/step - loss: 0.4066 - acc: 0.8098 - val_loss: 0.4514 - val_acc: 0.7960\n",
      "Epoch 12/25\n",
      "250/250 [==============================] - 172s 689ms/step - loss: 0.3950 - acc: 0.8193 - val_loss: 0.4707 - val_acc: 0.7875\n",
      "Epoch 13/25\n",
      "250/250 [==============================] - 170s 680ms/step - loss: 0.3911 - acc: 0.8240 - val_loss: 0.4359 - val_acc: 0.7981\n",
      "Epoch 14/25\n",
      "250/250 [==============================] - 174s 696ms/step - loss: 0.3812 - acc: 0.8265 - val_loss: 0.4528 - val_acc: 0.7990\n",
      "Epoch 15/25\n",
      "250/250 [==============================] - 177s 708ms/step - loss: 0.3779 - acc: 0.8275 - val_loss: 0.4426 - val_acc: 0.8050\n",
      "Epoch 16/25\n",
      "250/250 [==============================] - 170s 680ms/step - loss: 0.3645 - acc: 0.8376 - val_loss: 0.4435 - val_acc: 0.8145\n",
      "Epoch 17/25\n",
      "250/250 [==============================] - 172s 689ms/step - loss: 0.3501 - acc: 0.8431 - val_loss: 0.4695 - val_acc: 0.8071\n",
      "Epoch 18/25\n",
      "250/250 [==============================] - 173s 692ms/step - loss: 0.3390 - acc: 0.8494 - val_loss: 0.4477 - val_acc: 0.8193\n",
      "Epoch 19/25\n",
      "250/250 [==============================] - 171s 685ms/step - loss: 0.3291 - acc: 0.8533 - val_loss: 0.4541 - val_acc: 0.8139\n",
      "Epoch 20/25\n",
      "250/250 [==============================] - 173s 692ms/step - loss: 0.3227 - acc: 0.8569 - val_loss: 0.5012 - val_acc: 0.8010\n",
      "Epoch 21/25\n",
      "250/250 [==============================] - 176s 703ms/step - loss: 0.3103 - acc: 0.8642 - val_loss: 0.4563 - val_acc: 0.8194\n",
      "Epoch 22/25\n",
      "250/250 [==============================] - 172s 688ms/step - loss: 0.2950 - acc: 0.8706 - val_loss: 0.4850 - val_acc: 0.8109\n",
      "Epoch 23/25\n",
      "250/250 [==============================] - 171s 686ms/step - loss: 0.3012 - acc: 0.8644 - val_loss: 0.4791 - val_acc: 0.8040\n",
      "Epoch 24/25\n",
      "250/250 [==============================] - 170s 680ms/step - loss: 0.2846 - acc: 0.8764 - val_loss: 0.4894 - val_acc: 0.8136\n",
      "Epoch 25/25\n",
      "250/250 [==============================] - 171s 684ms/step - loss: 0.2804 - acc: 0.8800 - val_loss: 0.4922 - val_acc: 0.8135\n"
     ]
    },
    {
     "data": {
      "text/plain": [
       "<keras.callbacks.History at 0x1af8fde6a90>"
      ]
     },
     "execution_count": 10,
     "metadata": {},
     "output_type": "execute_result"
    }
   ],
   "source": [
    "classifier.fit_generator(training_set,\n",
    "                         samples_per_epoch = 8000,\n",
    "                         nb_epoch = 25,\n",
    "                         validation_data = test_set,\n",
    "                         nb_val_samples = 2000)"
   ]
  },
  {
   "cell_type": "code",
   "execution_count": 13,
   "metadata": {},
   "outputs": [],
   "source": [
    "classifier.save('.\\model\\CNN_model.h5')"
   ]
  },
  {
   "cell_type": "code",
   "execution_count": null,
   "metadata": {},
   "outputs": [],
   "source": []
  }
 ],
 "metadata": {
  "kernelspec": {
   "display_name": "Python [default]",
   "language": "python",
   "name": "python3"
  },
  "language_info": {
   "codemirror_mode": {
    "name": "ipython",
    "version": 3
   },
   "file_extension": ".py",
   "mimetype": "text/x-python",
   "name": "python",
   "nbconvert_exporter": "python",
   "pygments_lexer": "ipython3",
   "version": "3.5.5"
  }
 },
 "nbformat": 4,
 "nbformat_minor": 2
}
